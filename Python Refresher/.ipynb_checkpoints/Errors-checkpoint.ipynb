{
 "cells": [
  {
   "cell_type": "code",
   "execution_count": 1,
   "metadata": {},
   "outputs": [],
   "source": [
    "def Divide(dividend,divisor):\n",
    "    if divisor==0:\n",
    "        print(\"Divisor Cant Not Br Zero\")\n",
    "        return\n",
    "    else:\n",
    "        return (dividend/divisor)"
   ]
  },
  {
   "cell_type": "code",
   "execution_count": 2,
   "metadata": {},
   "outputs": [
    {
     "name": "stdout",
     "output_type": "stream",
     "text": [
      "Welcome To The Average Grade Program\n",
      "The Average Of Grades Is 81.5\n"
     ]
    }
   ],
   "source": [
    "Grades=[89,76,90,77,84,73]\n",
    "print(\"Welcome To The Average Grade Program\")\n",
    "average=Divide(sum(Grades),len(Grades))\n",
    "print(f\"The Average Of Grades Is {average}\")"
   ]
  },
  {
   "cell_type": "code",
   "execution_count": 4,
   "metadata": {},
   "outputs": [
    {
     "name": "stdout",
     "output_type": "stream",
     "text": [
      "Welcome To The Average Grade Program\n",
      "Divisor Cant Not Br Zero\n",
      "The Average Of Grades Is None\n"
     ]
    }
   ],
   "source": [
    "Grades=[]\n",
    "print(\"Welcome To The Average Grade Program\")\n",
    "average=Divide(sum(Grades),len(Grades))\n",
    "print(f\"The Average Of Grades Is {average}\") #Its Not A Best Practive To Show Errors "
   ]
  },
  {
   "cell_type": "markdown",
   "metadata": {},
   "source": [
    "### Error"
   ]
  },
  {
   "cell_type": "code",
   "execution_count": 5,
   "metadata": {},
   "outputs": [],
   "source": [
    "def Divide(dividend,divisor):\n",
    "    if divisor==0:\n",
    "        raise ZeroDivisionError(\"Divisor Can Not Be Zero\")\n",
    "    else:\n",
    "        return (dividend/divisor)"
   ]
  },
  {
   "cell_type": "code",
   "execution_count": 7,
   "metadata": {},
   "outputs": [
    {
     "name": "stdout",
     "output_type": "stream",
     "text": [
      "Welcome To The Average Grade Program\n",
      "The Average Of Grades Is 34.0\n",
      "Program Successfully Terminated\n"
     ]
    }
   ],
   "source": [
    "Grades=[23,45]\n",
    "print(\"Welcome To The Average Grade Program\")\n",
    "try:\n",
    "    average=Divide(sum(Grades),len(Grades))\n",
    "except ZeroDivisionError as e:\n",
    "    print(\"You Dont Have Any Gardes In Yout Grades List\")\n",
    "    print(e)\n",
    "else:    \n",
    "    print(f\"The Average Of Grades Is {average}\")\n",
    "finally:\n",
    "    print(\"Program Successfully Terminated\")"
   ]
  },
  {
   "cell_type": "code",
   "execution_count": 8,
   "metadata": {},
   "outputs": [],
   "source": [
    "Students=[{\"name\":\"Bob\",\"grades\":[89,78]},{\"name\":\"Jen\",\"grades\":[]},{\"name\":\"Tom\",\"grades\":[90,88]}]"
   ]
  },
  {
   "cell_type": "code",
   "execution_count": 11,
   "metadata": {},
   "outputs": [
    {
     "name": "stdout",
     "output_type": "stream",
     "text": [
      "Welcome To The Average Grade Program\n",
      "Bob averaged 83.5\n",
      "Student nameJen Has no Marks In List Given\n",
      "Divisor Can Not Be Zero\n",
      "Program Successfully Terminated\n"
     ]
    }
   ],
   "source": [
    "print(\"Welcome To The Average Grade Program\")\n",
    "try:\n",
    "    for student in Students:\n",
    "        name=student[\"name\"]\n",
    "        grades=student[\"grades\"]\n",
    "        average=Divide(sum(grades),len(grades))\n",
    "        print(f\"{name} averaged {average}\")\n",
    "        \n",
    "except ZeroDivisionError as e:\n",
    "    print(f\"Student name{name} Has no Marks In List Given\")\n",
    "    print(e)\n",
    "else:    \n",
    "    print(\"<---All Marks Average Are Calculated--->\")\n",
    "finally:\n",
    "    print(\"Program Successfully Terminated\")"
   ]
  },
  {
   "cell_type": "markdown",
   "metadata": {},
   "source": [
    "## Custom Error"
   ]
  },
  {
   "cell_type": "code",
   "execution_count": 25,
   "metadata": {},
   "outputs": [],
   "source": [
    "class TooManyPageReadError(ValueError):\n",
    "    pass\n",
    "\n",
    "class Book:\n",
    "    def __init__(self,name: str,page_count: int):\n",
    "        self.name=name\n",
    "        self.page_count=page_count\n",
    "        self.pages_read=0\n",
    "    def __repr__(self):\n",
    "        return(f\"<Book {self.name} , read{self.pages_read} out of {self.page_count}>\")\n",
    "    def read(self,pages:int):\n",
    "        if self.pages_read+pages>self.page_count:\n",
    "            raise TooManyPageReadError(f\"You tried to read {self.pages_read+pages} but your book contain only {self.page_count}\")\n",
    "        self.pages_read+=pages\n",
    "        print(f\"You Have Now Read {self.pages_read} Out Of {self.page_count}\")"
   ]
  },
  {
   "cell_type": "code",
   "execution_count": 29,
   "metadata": {},
   "outputs": [
    {
     "ename": "SyntaxError",
     "evalue": "unexpected EOF while parsing (<ipython-input-29-025024af5547>, line 4)",
     "output_type": "error",
     "traceback": [
      "\u001b[1;36m  File \u001b[1;32m\"<ipython-input-29-025024af5547>\"\u001b[1;36m, line \u001b[1;32m4\u001b[0m\n\u001b[1;33m    python101.read(50)\u001b[0m\n\u001b[1;37m                      ^\u001b[0m\n\u001b[1;31mSyntaxError\u001b[0m\u001b[1;31m:\u001b[0m unexpected EOF while parsing\n"
     ]
    }
   ],
   "source": [
    "python101=Book(\"Python 101\",50)\n",
    "try:\n",
    "    python101.read(35)\n",
    "    python101.read(50)\n",
    "except TooManyPageReadError as e:\n",
    "    print(e)"
   ]
  },
  {
   "cell_type": "code",
   "execution_count": null,
   "metadata": {},
   "outputs": [],
   "source": []
  }
 ],
 "metadata": {
  "kernelspec": {
   "display_name": "Python 3",
   "language": "python",
   "name": "python3"
  },
  "language_info": {
   "codemirror_mode": {
    "name": "ipython",
    "version": 3
   },
   "file_extension": ".py",
   "mimetype": "text/x-python",
   "name": "python",
   "nbconvert_exporter": "python",
   "pygments_lexer": "ipython3",
   "version": "3.7.4"
  }
 },
 "nbformat": 4,
 "nbformat_minor": 2
}
