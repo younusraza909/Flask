{
 "cells": [
  {
   "cell_type": "code",
   "execution_count": 1,
   "metadata": {},
   "outputs": [],
   "source": [
    "student={\"name\":\"Raza\",\"Grade\":(76,87,77,90,67)}"
   ]
  },
  {
   "cell_type": "code",
   "execution_count": 2,
   "metadata": {},
   "outputs": [],
   "source": [
    "def average(sequence):\n",
    "    return sum(sequence)/len(sequence)"
   ]
  },
  {
   "cell_type": "code",
   "execution_count": 3,
   "metadata": {},
   "outputs": [
    {
     "data": {
      "text/plain": [
       "79.4"
      ]
     },
     "execution_count": 3,
     "metadata": {},
     "output_type": "execute_result"
    }
   ],
   "source": [
    "average(student[\"Grade\"])"
   ]
  },
  {
   "cell_type": "code",
   "execution_count": 15,
   "metadata": {},
   "outputs": [],
   "source": [
    "class Student:\n",
    "    def __init__(self):\n",
    "        self.name=\"Younus\"\n",
    "        self.grades=(89,78,97,90,75)\n",
    "    def average_grades(self):\n",
    "        return sum(self.grades)/len(self.grades)"
   ]
  },
  {
   "cell_type": "code",
   "execution_count": 16,
   "metadata": {},
   "outputs": [
    {
     "name": "stdout",
     "output_type": "stream",
     "text": [
      "85.8\n"
     ]
    }
   ],
   "source": [
    "student=Student()\n",
    "#print(Student.average(student))\n",
    "print(student.average_grades())"
   ]
  },
  {
   "cell_type": "code",
   "execution_count": 17,
   "metadata": {},
   "outputs": [],
   "source": [
    "class Student:\n",
    "    def __init__(self,name,grades):\n",
    "        self.name=name\n",
    "        self.grades=grades\n",
    "    def average_grades(self):\n",
    "        return sum(self.grades)/len(self.grades)"
   ]
  },
  {
   "cell_type": "code",
   "execution_count": 20,
   "metadata": {},
   "outputs": [],
   "source": [
    "student1=Student(\"Bob\",(89,78,97,90,75))\n",
    "student2=Student(\"Raza\",(79,78,67,90,75))\n",
    "student3=Student(\"Younus\",(69,78,77,90,75))\n",
    "student4=Student(\"Faraz\",(59,78,57,70,75))"
   ]
  },
  {
   "cell_type": "code",
   "execution_count": 23,
   "metadata": {},
   "outputs": [
    {
     "name": "stdout",
     "output_type": "stream",
     "text": [
      "85.8\n",
      "77.8\n",
      "77.8\n",
      "67.8\n"
     ]
    }
   ],
   "source": [
    "print(student1.average_grades())\n",
    "print(student2.average_grades())\n",
    "print(student3.average_grades())\n",
    "print(student4.average_grades())"
   ]
  },
  {
   "cell_type": "markdown",
   "metadata": {},
   "source": [
    "### Magic Methods __str__ & __repr__"
   ]
  },
  {
   "cell_type": "code",
   "execution_count": 38,
   "metadata": {},
   "outputs": [],
   "source": [
    "class Student:\n",
    "    def __init__(self,name,age):\n",
    "        self.name=name\n",
    "        self.age=age\n",
    "    def __str__(self):\n",
    "       return(f\"Person {self.name} and age is {self.age}!\")\n",
    "    def  __repr__(self):\n",
    "        return(f\"<Person {self.name} and age is {self.age}>\")"
   ]
  },
  {
   "cell_type": "code",
   "execution_count": 39,
   "metadata": {},
   "outputs": [
    {
     "name": "stdout",
     "output_type": "stream",
     "text": [
      "Person Bob and age is 56!\n"
     ]
    }
   ],
   "source": [
    "Bob=Student(\"Bob\",56)\n",
    "print(Bob)"
   ]
  },
  {
   "cell_type": "markdown",
   "metadata": {},
   "source": [
    "### Class Method And Static Method "
   ]
  },
  {
   "cell_type": "code",
   "execution_count": 47,
   "metadata": {},
   "outputs": [],
   "source": [
    "class ClassTest:\n",
    "    Remarks=(\"Pass\",\"Fail\")\n",
    "    def instance_method(self):\n",
    "        print(f\"You Have Called Instance Method Of {self}\")\n",
    "    @classmethod\n",
    "    def ClassMethod(cls):\n",
    "        print(f\"You Have Called Class Method Of {cls}\")\n",
    "    @staticmethod\n",
    "    def StaticMethod():\n",
    "        print(\"Called Static Method\")"
   ]
  },
  {
   "cell_type": "code",
   "execution_count": 50,
   "metadata": {},
   "outputs": [
    {
     "name": "stdout",
     "output_type": "stream",
     "text": [
      "You Have Called Instance Method Of <__main__.ClassTest object at 0x000001E7A6B760C8>\n"
     ]
    }
   ],
   "source": [
    "test=ClassTest()\n",
    "test.instance_method()"
   ]
  },
  {
   "cell_type": "code",
   "execution_count": 51,
   "metadata": {},
   "outputs": [
    {
     "name": "stdout",
     "output_type": "stream",
     "text": [
      "You Have Called Class Method Of <class '__main__.ClassTest'>\n"
     ]
    }
   ],
   "source": [
    "ClassTest.ClassMethod()"
   ]
  },
  {
   "cell_type": "code",
   "execution_count": 53,
   "metadata": {},
   "outputs": [
    {
     "name": "stdout",
     "output_type": "stream",
     "text": [
      "Called Static Method\n"
     ]
    },
    {
     "data": {
      "text/plain": [
       "('Pass', 'Fail')"
      ]
     },
     "execution_count": 53,
     "metadata": {},
     "output_type": "execute_result"
    }
   ],
   "source": [
    "ClassTest.StaticMethod()\n",
    "test.Remarks"
   ]
  },
  {
   "cell_type": "code",
   "execution_count": 69,
   "metadata": {},
   "outputs": [],
   "source": [
    "class Book:\n",
    "    TYPES=(\"HardCover\",\"PaperBack\")\n",
    "    def __init__(self,name,book_type,weight):\n",
    "        self.name=name\n",
    "        self.book_type=book_type\n",
    "        self.weight=weight\n",
    "    def __repr__(self):\n",
    "        return(f\"<Book Name Is {self.name} ,Weight Is {self.weight}gm And Type Is {self.book_type}>\")\n",
    "    @classmethod\n",
    "    def hardcover(cls,name,weight):\n",
    "        return Book(name,Book.TYPES[0],weight)\n",
    "    @classmethod\n",
    "    def paperback(cls,name,weight):\n",
    "        return Book(name,Book.TYPES[1],weight)    \n",
    "        "
   ]
  },
  {
   "cell_type": "code",
   "execution_count": 70,
   "metadata": {},
   "outputs": [
    {
     "name": "stdout",
     "output_type": "stream",
     "text": [
      "<Book Name Is HarryPotter ,Weight Is 1500gm And Type Is HardCover>\n"
     ]
    }
   ],
   "source": [
    "book=Book.hardcover(\"HarryPotter\",1500)\n",
    "print(book)"
   ]
  },
  {
   "cell_type": "code",
   "execution_count": 73,
   "metadata": {},
   "outputs": [
    {
     "name": "stdout",
     "output_type": "stream",
     "text": [
      "<Book Name Is Python101 ,Weight Is 1000gm And Type Is PaperBack>\n"
     ]
    }
   ],
   "source": [
    "book2=Book.paperback(\"Python101\",1000)\n",
    "print(book2)"
   ]
  },
  {
   "cell_type": "code",
   "execution_count": null,
   "metadata": {},
   "outputs": [],
   "source": []
  }
 ],
 "metadata": {
  "kernelspec": {
   "display_name": "Python 3",
   "language": "python",
   "name": "python3"
  },
  "language_info": {
   "codemirror_mode": {
    "name": "ipython",
    "version": 3
   },
   "file_extension": ".py",
   "mimetype": "text/x-python",
   "name": "python",
   "nbconvert_exporter": "python",
   "pygments_lexer": "ipython3",
   "version": "3.7.4"
  }
 },
 "nbformat": 4,
 "nbformat_minor": 2
}
